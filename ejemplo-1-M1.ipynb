{
 "cells": [
  {
   "cell_type": "markdown",
   "metadata": {},
   "source": [
    "### Python Esentials for MLOps en Español"
   ]
  },
  {
   "cell_type": "markdown",
   "metadata": {},
   "source": [
    "Este notebook fue creado para que puedas profundizar más los conocimientos de acuerdo. Este notebbok costará de tres apartados. \n",
    "\n",
    "| Tipos de ejemplos      | Descripción     |\n",
    "|--------------------------------------|-----------------|\n",
    "| Ejemplo de Aprendizaje      | Es el primer vistazo de lo aprendido que será de guia para los próximos ejercicios                |\n",
    "| Ejemplos de practica    | Son enunciados extras para enaluar lo aprendido sirvase a realizarlos en su plataforma de preferencia                                                                      |\n",
    "| Ejemplos resueltos     | Son los ejercicios resueltos mostrados previamente. Sin embargo, como todo en la vida existe diferentes soluciones a un problema en específico                                            |\n",
    "\n",
    "\n"
   ]
  },
  {
   "cell_type": "markdown",
   "metadata": {},
   "source": [
    "##### **2.0 Ejemplos de aprendizaje**"
   ]
  },
  {
   "cell_type": "code",
   "execution_count": 1,
   "metadata": {},
   "outputs": [
    {
     "name": "stdout",
     "output_type": "stream",
     "text": [
      "Hello Jane\n",
      "Condition was true\n",
      "Cannot divide by 0\n"
     ]
    }
   ],
   "source": [
    "#print try some of these key terms out\n",
    "# Variable to store a value\n",
    "name = \"John\"  \n",
    "\n",
    "# Reassign variable\n",
    "name = \"Jane\" \n",
    "\n",
    "# f-String prints variable \n",
    "print(f\"Hello {name}\")\n",
    "\n",
    "# Integer\n",
    "num = 10  \n",
    "\n",
    "# Float \n",
    "dec = 10.5 \n",
    "\n",
    "# Boolean\n",
    "is_true = True\n",
    "\n",
    "# None \n",
    "empty = None\n",
    "\n",
    "# If condition evaluates the Boolean\n",
    "if is_true:\n",
    "  print(\"Condition was true\")\n",
    "\n",
    "# Else catches when if was False  \n",
    "else: \n",
    "  print(\"Condition was false\")\n",
    "  \n",
    "# Try block attempts this code\n",
    "try:\n",
    "  result = num / 0\n",
    "# Except catches the ZeroDivisionError   \n",
    "except ZeroDivisionError as e:\n",
    "  print(\"Cannot divide by 0\")"
   ]
  },
  {
   "cell_type": "markdown",
   "metadata": {},
   "source": [
    "##### **02. Ejemplos de practica**"
   ]
  },
  {
   "cell_type": "markdown",
   "metadata": {},
   "source": [
    "**1. Variable**\n",
    "\n",
    "Ejercicios (enunciados)\n",
    "\n",
    "a. Declara una variable que guarde el nombre de un usuario.\n",
    "\n",
    "b.  Declara una variable que almacene una lista de números.\n",
    "\n",
    "c.  Declara una variable que guarde un diccionario con datos de un libro."
   ]
  },
  {
   "cell_type": "markdown",
   "metadata": {},
   "source": [
    "#### 3. Ejemplos de práctica resueltos \n"
   ]
  },
  {
   "cell_type": "code",
   "execution_count": 5,
   "metadata": {},
   "outputs": [
    {
     "name": "stdout",
     "output_type": "stream",
     "text": [
      "Fernando\n",
      "[1, 1, 0]\n",
      "{'Los Angeles Caídos': 'Anónimo', 'Año': '2027', 'Editorial': 'Universo'}\n"
     ]
    }
   ],
   "source": [
    "## 1. Variable\n",
    "# a. Declara una variable que guarde el nombre de un usuario.\n",
    "\n",
    "nombre = \"Fernando\"\n",
    "print(nombre)\n",
    "\n",
    "# b.  Declara una variable que almacene una lista -> [] de números.\n",
    "\n",
    "numeros = [1,1,0] # Utilizar corchetes para las listas\n",
    "print(numeros)\n",
    "\n",
    "# c.  Declara una variable que guarde un diccionario -> { : , : , : } con datos de un libro.\n",
    "\n",
    "diccionario = {\n",
    " \n",
    " \"Los Angeles Caídos\": \"Anónimo\", \n",
    " \"Año\": \"2027\", \n",
    " \"Editorial\" : \"Universo\"\n",
    "\n",
    "}\n",
    "\n",
    "print(diccionario)\n"
   ]
  },
  {
   "cell_type": "markdown",
   "metadata": {},
   "source": [
    "Aquí va tu explicación sobre el formato del diccionario en Python[^1].\n",
    "\n",
    "[^1]: **Seguramente te preguntarás por qué los corchetes `{}` comienzan en esas líneas de código.**  \n",
    "    En este caso, si bien la PEP 8 y el estilo de Python no comentan explícitamente acerca de ello, se sugiere que cuando se tenga más de dos entradas se coloque de esta forma para mantener la **claridad**, **mantenibilidad** y evitar errores de coma.\n"
   ]
  },
  {
   "cell_type": "code",
   "execution_count": null,
   "metadata": {},
   "outputs": [],
   "source": []
  }
 ],
 "metadata": {
  "kernelspec": {
   "display_name": "MiSegundoProyecto2",
   "language": "python",
   "name": "python3"
  },
  "language_info": {
   "codemirror_mode": {
    "name": "ipython",
    "version": 3
   },
   "file_extension": ".py",
   "mimetype": "text/x-python",
   "name": "python",
   "nbconvert_exporter": "python",
   "pygments_lexer": "ipython3",
   "version": "3.11.5"
  }
 },
 "nbformat": 4,
 "nbformat_minor": 2
}
